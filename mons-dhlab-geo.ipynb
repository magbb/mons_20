{
 "cells": [
  {
   "cell_type": "code",
   "execution_count": null,
   "id": "235041e3-40ed-4749-a2b4-3e27a2ec080b",
   "metadata": {},
   "outputs": [],
   "source": [
    "import dhlab as dh\n",
    "import requests\n",
    "import geopy\n",
    "import folium\n",
    "import pandas as pd\n",
    "from geopy.geocoders import Nominatim\n",
    "import math"
   ]
  },
  {
   "cell_type": "code",
   "execution_count": null,
   "id": "13c44716-79f1-43ac-9086-1a34804a9b96",
   "metadata": {},
   "outputs": [],
   "source": [
    "# extract geographic elements\n",
    "def get_geographic(r):\n",
    "    try:\n",
    "        title = r.json()[\"metadata\"][\"title\"].strip()\n",
    "    except:\n",
    "        title = \"\"\n",
    "    try:\n",
    "        city = r.json()[\"metadata\"][\"geographic\"][\"city\"].strip()\n",
    "    except:\n",
    "        city = \"\"\n",
    "    try:\n",
    "        county = r.json()[\"metadata\"][\"geographic\"][\"county\"].strip()\n",
    "    except:\n",
    "        county = \"\"\n",
    "\n",
    "    try:\n",
    "        location = geolocator.geocode(\"%s, %s\" % (city, county))\n",
    "        loc = location.raw\n",
    "    except:\n",
    "        loc = {}\n",
    "    \n",
    "    return (title, city, county, loc)"
   ]
  },
  {
   "cell_type": "code",
   "execution_count": null,
   "id": "4c04c2cf-7bc2-4933-835f-2b565ce8b7a9",
   "metadata": {},
   "outputs": [],
   "source": [
    "def create_record(id, metadata):\n",
    "    row = []\n",
    "    row.extend([id])\n",
    "    row.extend(metadata[:3])\n",
    "    if metadata[3]:\n",
    "        row.extend([metadata[3][\"place_id\"], metadata[3][\"lat\"] , metadata[3][\"lon\"], metadata[3][\"display_name\"]])\n",
    "    else:\n",
    "        row.extend([None,None,None,None])\n",
    "    return row"
   ]
  },
  {
   "cell_type": "code",
   "execution_count": null,
   "id": "7cbd89db-8de9-49f0-97ed-6ab3714c6e5d",
   "metadata": {},
   "outputs": [],
   "source": [
    "# read newspaper frame\n",
    "df = pd.read_excel(\"newspapers.xlsx\")\n",
    "columns = list(df.columns)"
   ]
  },
  {
   "cell_type": "code",
   "execution_count": null,
   "id": "5d47b234-0d15-46d3-a295-6905bb26e3de",
   "metadata": {},
   "outputs": [],
   "source": [
    "# create locator\n",
    "geolocator = Nominatim(user_agent=\"newspaper\")"
   ]
  },
  {
   "cell_type": "markdown",
   "id": "0d7a6ddf-fb5b-4d71-b840-099fd85d9b5d",
   "metadata": {},
   "source": [
    "# Create corpus, get metadata"
   ]
  },
  {
   "cell_type": "code",
   "execution_count": null,
   "id": "fc596e50-6f95-4eb5-b421-e9724d7d02ec",
   "metadata": {},
   "outputs": [],
   "source": [
    "word = \"trurøken\""
   ]
  },
  {
   "cell_type": "code",
   "execution_count": null,
   "id": "e284bfce-4210-426c-9d2a-977cfde4ce16",
   "metadata": {},
   "outputs": [],
   "source": [
    "corpus = dh.Corpus(doctype=\"digavis\", fulltext=word, order_by=\"random\", limit=1000)"
   ]
  },
  {
   "cell_type": "code",
   "execution_count": null,
   "id": "ca6dd849-7116-4dfe-99e9-c0c78e863be2",
   "metadata": {},
   "outputs": [],
   "source": [
    "corpus"
   ]
  },
  {
   "cell_type": "code",
   "execution_count": null,
   "id": "1e72ec2e-92ac-4b20-bffd-0a5bd09ed457",
   "metadata": {},
   "outputs": [],
   "source": [
    "# check for newspapers\n",
    "for urn in list(corpus.frame.urn):\n",
    "    prefix = '_'.join(urn.split('_')[0:3])\n",
    "    if prefix in df[\"id\"].values:\n",
    "        pass\n",
    "    else:\n",
    "        # run code, add to set\n",
    "        manifest_url = \"https://api.nb.no/catalog/v1/items/%s\" % (urn)\n",
    "        r=requests.get(manifest_url)\n",
    "        metadata = create_record(id=prefix, metadata=get_geographic(r))\n",
    "        row = pd.DataFrame([metadata], columns=columns)\n",
    "        df = pd.concat([df, row])\n",
    "        print(manifest_url)"
   ]
  },
  {
   "cell_type": "code",
   "execution_count": null,
   "id": "afaa7d2f-5ecd-42da-8176-a7dddd7e9e1c",
   "metadata": {},
   "outputs": [],
   "source": [
    "# export back to Excel\n",
    "df.to_excel(\"newspapers.xlsx\", index=False)"
   ]
  },
  {
   "cell_type": "markdown",
   "id": "c61b009c-305a-4cc7-a34f-a75c2af1be05",
   "metadata": {},
   "source": [
    "# Count the number of occurences"
   ]
  },
  {
   "cell_type": "code",
   "execution_count": null,
   "id": "4823392f-26b6-438c-a99c-8183f885e562",
   "metadata": {},
   "outputs": [],
   "source": [
    "counts = corpus.count(words=[word])"
   ]
  },
  {
   "cell_type": "code",
   "execution_count": null,
   "id": "2594ed78-1794-4ae5-982d-5ee02b57a61d",
   "metadata": {},
   "outputs": [],
   "source": [
    "corpus.frame[\"split_urn\"] = corpus.frame[\"urn\"].apply(lambda x: '_'.join(x.split(\"_\")[0:3]))"
   ]
  },
  {
   "cell_type": "code",
   "execution_count": null,
   "id": "61237f67-0336-40bf-8861-e955b1286121",
   "metadata": {},
   "outputs": [],
   "source": [
    "# merge with metadata\n",
    "corpus_metadata = corpus.frame.merge(df, left_on=\"split_urn\", right_on=\"id\")"
   ]
  },
  {
   "cell_type": "code",
   "execution_count": null,
   "id": "5b90dff8-102d-4522-8c0d-05f718a7571d",
   "metadata": {},
   "outputs": [],
   "source": [
    "# merge with counts\n",
    "counts = counts.frame.transpose().reset_index()"
   ]
  },
  {
   "cell_type": "code",
   "execution_count": null,
   "id": "76b0d577-eb79-456b-a1a0-ecb330e46619",
   "metadata": {},
   "outputs": [],
   "source": [
    "corpus_count_metadata = corpus_metadata.merge(counts, left_on=\"dhlabid\", right_on=\"urn\")"
   ]
  },
  {
   "cell_type": "code",
   "execution_count": null,
   "id": "bc93b315-d160-45cc-b220-29c46f0450c9",
   "metadata": {},
   "outputs": [],
   "source": [
    "# create a decade column\n",
    "corpus_count_metadata[\"decade\"] = corpus_count_metadata[\"year\"].apply(lambda x: math.floor(x/10) * 10)\n",
    "decade_sum = corpus_count_metadata.groupby(by=[\"decade\"])[[word]].sum()"
   ]
  },
  {
   "cell_type": "code",
   "execution_count": null,
   "id": "d5d770f4-ad40-42c8-8850-c279d637ad2d",
   "metadata": {},
   "outputs": [],
   "source": [
    "decade_sum.plot(kind=\"bar\", rot=0)"
   ]
  },
  {
   "cell_type": "code",
   "execution_count": null,
   "id": "960b4b88-0840-4bd1-be4a-86ca001e238a",
   "metadata": {},
   "outputs": [],
   "source": [
    "corpus_count_metadata.groupby(by=[\"county\"])[[word]].sum().sort_values(by=word, ascending=False)"
   ]
  },
  {
   "cell_type": "markdown",
   "id": "54008b30-c246-4fdf-a447-78ae0c2e8982",
   "metadata": {},
   "source": [
    "# Draw map"
   ]
  },
  {
   "cell_type": "code",
   "execution_count": null,
   "id": "4a3cd4ff-4bdd-4100-a2a3-87ca92aa5d34",
   "metadata": {},
   "outputs": [],
   "source": [
    "map_data = corpus_count_metadata.groupby(by=[\"place_id\", \"place\", \"county\", \"long\", \"lat\"])[[word]].sum().reset_index()"
   ]
  },
  {
   "cell_type": "code",
   "execution_count": null,
   "id": "c62c0ecb-0b73-49fb-bd93-9fbbc1c54185",
   "metadata": {},
   "outputs": [],
   "source": [
    "# Ensure the 'latitude' and 'longitude' columns are numeric \n",
    "map_data['lat'] = pd.to_numeric(map_data['lat'], errors='coerce')\n",
    "map_data['long'] = pd.to_numeric(map_data['long'], errors='coerce')\n",
    "map_data[word] = pd.to_numeric(map_data[word], errors='coerce') \n",
    "map_data.dropna(subset=['lat', 'long', word], inplace=True)"
   ]
  },
  {
   "cell_type": "code",
   "execution_count": null,
   "id": "065e7fd0-8995-4899-bb55-4e511b466da1",
   "metadata": {},
   "outputs": [],
   "source": [
    "m = folium.Map(location=[map_data['lat'].mean(), map_data['long'].mean()], zoom_start=6)"
   ]
  },
  {
   "cell_type": "code",
   "execution_count": null,
   "id": "a05250d4-90c4-4e97-91fb-6ce9c3658002",
   "metadata": {},
   "outputs": [],
   "source": [
    "# Add markers to the map\n",
    "for i, row in map_data.iterrows():\n",
    "    folium.CircleMarker(location=[row['lat'], row['long']],\n",
    "                        radius=row[word] / 2, # Adjust the divisor to control the size\n",
    "                        color='blue',\n",
    "                        fill=True,\n",
    "                        fill_color='blue').add_to(m)"
   ]
  },
  {
   "cell_type": "code",
   "execution_count": null,
   "id": "d08d45db-0cf8-4fff-8ef1-5c0d99b90bf0",
   "metadata": {},
   "outputs": [],
   "source": [
    "m"
   ]
  }
 ],
 "metadata": {
  "kernelspec": {
   "display_name": "Python 3 (ipykernel)",
   "language": "python",
   "name": "python3"
  },
  "language_info": {
   "codemirror_mode": {
    "name": "ipython",
    "version": 3
   },
   "file_extension": ".py",
   "mimetype": "text/x-python",
   "name": "python",
   "nbconvert_exporter": "python",
   "pygments_lexer": "ipython3",
   "version": "3.12.3"
  }
 },
 "nbformat": 4,
 "nbformat_minor": 5
}
